{
 "cells": [
  {
   "cell_type": "code",
   "execution_count": 1,
   "metadata": {},
   "outputs": [
    {
     "name": "stdout",
     "output_type": "stream",
     "text": [
      "Train data shape is (26296946, 20)\n",
      "<bound method NDFrame.head of               session_id  index  elapsed_time      event_name       name  \\\n",
      "0      20090312431273200      0             0  cutscene_click      basic   \n",
      "1      20090312431273200      1          1323    person_click      basic   \n",
      "2      20090312431273200      2           831    person_click      basic   \n",
      "3      20090312431273200      3          1147    person_click      basic   \n",
      "4      20090312431273200      4          1863    person_click      basic   \n",
      "...                  ...    ...           ...             ...        ...   \n",
      "96941  22100221145014656   1600       5483231  navigate_click  undefined   \n",
      "96942  22100221145014656   1601       5485166  navigate_click  undefined   \n",
      "96943  22100221145014656   1602       5485917  navigate_click  undefined   \n",
      "96944  22100221145014656   1603       5486753  navigate_click  undefined   \n",
      "96945  22100221145014656   1604       5487952      checkpoint      basic   \n",
      "\n",
      "       level  page  room_coor_x  room_coor_y  screen_coor_x  screen_coor_y  \\\n",
      "0          0   NaN  -413.991394  -159.314682          380.0          494.0   \n",
      "1          0   NaN  -413.991394  -159.314682          380.0          494.0   \n",
      "2          0   NaN  -413.991394  -159.314682          380.0          494.0   \n",
      "3          0   NaN  -413.991394  -159.314682          380.0          494.0   \n",
      "4          0   NaN  -412.991394  -159.314682          381.0          494.0   \n",
      "...      ...   ...          ...          ...            ...            ...   \n",
      "96941     22   NaN   343.887299    36.701027          483.0          273.0   \n",
      "96942     22   NaN   332.696075   141.493179          545.0          221.0   \n",
      "96943     22   NaN   369.912872   140.569199          611.0          217.0   \n",
      "96944     22   NaN   252.299652   123.805893          526.0          232.0   \n",
      "96945     22   NaN          NaN          NaN            NaN            NaN   \n",
      "\n",
      "       hover_duration                           text            fqid  \\\n",
      "0                 NaN                      undefined           intro   \n",
      "1                 NaN  Whatcha doing over there, Jo?          gramps   \n",
      "2                 NaN         Just talking to Teddy.          gramps   \n",
      "3                 NaN     I gotta run to my meeting!          gramps   \n",
      "4                 NaN            Can I come, Gramps?          gramps   \n",
      "...               ...                            ...             ...   \n",
      "96941             NaN                            NaN             NaN   \n",
      "96942             NaN                            NaN  chap4_finale_c   \n",
      "96943             NaN                            NaN             NaN   \n",
      "96944             NaN                            NaN  chap4_finale_c   \n",
      "96945             NaN                            NaN  chap4_finale_c   \n",
      "\n",
      "                            room_fqid  \\\n",
      "0      tunic.historicalsociety.closet   \n",
      "1      tunic.historicalsociety.closet   \n",
      "2      tunic.historicalsociety.closet   \n",
      "3      tunic.historicalsociety.closet   \n",
      "4      tunic.historicalsociety.closet   \n",
      "...                               ...   \n",
      "96941            tunic.capitol_2.hall   \n",
      "96942            tunic.capitol_2.hall   \n",
      "96943            tunic.capitol_2.hall   \n",
      "96944            tunic.capitol_2.hall   \n",
      "96945            tunic.capitol_2.hall   \n",
      "\n",
      "                                               text_fqid fullscreen hq music  \\\n",
      "0                   tunic.historicalsociety.closet.intro          0  0     1   \n",
      "1      tunic.historicalsociety.closet.gramps.intro_0_...          0  0     1   \n",
      "2      tunic.historicalsociety.closet.gramps.intro_0_...          0  0     1   \n",
      "3      tunic.historicalsociety.closet.gramps.intro_0_...          0  0     1   \n",
      "4      tunic.historicalsociety.closet.gramps.intro_0_...          0  0     1   \n",
      "...                                                  ...        ... ..   ...   \n",
      "96941                                                NaN          0  0     1   \n",
      "96942                                                NaN          0  0     1   \n",
      "96943                                                NaN          0  0     1   \n",
      "96944                                                NaN          0  0     1   \n",
      "96945                                                NaN          0  0     1   \n",
      "\n",
      "      level_group  \n",
      "0             0-4  \n",
      "1             0-4  \n",
      "2             0-4  \n",
      "3             0-4  \n",
      "4             0-4  \n",
      "...           ...  \n",
      "96941       13-22  \n",
      "96942       13-22  \n",
      "96943       13-22  \n",
      "96944       13-22  \n",
      "96945       13-22  \n",
      "\n",
      "[26296946 rows x 20 columns]>\n",
      "Index(['session_id', 'index', 'elapsed_time', 'event_name', 'name', 'level',\n",
      "       'page', 'room_coor_x', 'room_coor_y', 'screen_coor_x', 'screen_coor_y',\n",
      "       'hover_duration', 'text', 'fqid', 'room_fqid', 'text_fqid',\n",
      "       'fullscreen', 'hq', 'music', 'level_group'],\n",
      "      dtype='object')\n",
      "23562\n"
     ]
    }
   ],
   "source": [
    "import pandas as pd\n",
    "import numpy as np\n",
    "import matplotlib.pyplot as plt\n",
    "\n",
    "# Load data parts 0-10 and append\n",
    "dtypes={\n",
    "    'elapsed_time':np.int32,\n",
    "    'event_name':'category',\n",
    "    'name':'category',\n",
    "    'level':np.uint8,\n",
    "    'room_coor_x':np.float32,\n",
    "    'room_coor_y':np.float32,\n",
    "    'screen_coor_x':np.float32,\n",
    "    'screen_coor_y':np.float32,\n",
    "    'hover_duration':np.float32,\n",
    "    'text':'category',\n",
    "    'fqid':'category',\n",
    "    'room_fqid':'category',\n",
    "    'text_fqid':'category',\n",
    "    'fullscreen':'category',\n",
    "    'hq':'category',\n",
    "    'music':'category',\n",
    "    'level_group':'category'\n",
    "}\n",
    "\n",
    "train = pd.read_csv(\"Parts/part_0.csv\", dtype=dtypes)\n",
    "for i in range(1,263):\n",
    "    df = pd.read_csv(\"Parts/part_\"+str(i)+\".csv\", dtype=dtypes)\n",
    "    train = pd.concat([train, df])\n",
    "\n",
    "\n",
    "print(\"Train data shape is {}\".format(train.shape))\n",
    "print(train.head)\n",
    "print(train.columns)\n",
    "unique_sessions = len(train['session_id'].unique())\n",
    "print(unique_sessions)"
   ]
  },
  {
   "cell_type": "code",
   "execution_count": 1,
   "metadata": {},
   "outputs": [
    {
     "ename": "NameError",
     "evalue": "name 'train' is not defined",
     "output_type": "error",
     "traceback": [
      "\u001b[0;31m---------------------------------------------------------------------------\u001b[0m",
      "\u001b[0;31mNameError\u001b[0m                                 Traceback (most recent call last)",
      "Cell \u001b[0;32mIn[1], line 1\u001b[0m\n\u001b[0;32m----> 1\u001b[0m \u001b[38;5;28mprint\u001b[39m(\u001b[38;5;124m\"\u001b[39m\u001b[38;5;124mTrain data shape is \u001b[39m\u001b[38;5;132;01m{}\u001b[39;00m\u001b[38;5;124m\"\u001b[39m\u001b[38;5;241m.\u001b[39mformat(\u001b[43mtrain\u001b[49m\u001b[38;5;241m.\u001b[39mshape))\n\u001b[1;32m      2\u001b[0m \u001b[38;5;28mprint\u001b[39m(train\u001b[38;5;241m.\u001b[39mhead)\n",
      "\u001b[0;31mNameError\u001b[0m: name 'train' is not defined"
     ]
    }
   ],
   "source": [
    "print(\"Train data shape is {}\".format(train.shape))\n",
    "print(train.head)"
   ]
  },
  {
   "cell_type": "code",
   "execution_count": 9,
   "metadata": {},
   "outputs": [],
   "source": [
    "CATS = ['event_name', 'fqid', 'room_fqid', 'text']\n",
    "NUMS = ['elapsed_time','level','page','room_coor_x', 'room_coor_y', \n",
    "        'screen_coor_x', 'screen_coor_y', 'hover_duration']\n",
    "\n",
    "EVENTS = ['navigate_click','person_click','cutscene_click','object_click',\n",
    "          'map_hover','notification_click','map_click','observation_click',\n",
    "          'checkpoint']"
   ]
  },
  {
   "cell_type": "code",
   "execution_count": 7,
   "metadata": {},
   "outputs": [],
   "source": [
    "def feature_engineer(train): \n",
    "    dfs = []\n",
    "    for c in CATS:\n",
    "        tmp = train.groupby(['session_id','level_group'])[c].agg('nunique')\n",
    "        tmp.name = tmp.name + '_nunique'\n",
    "        dfs.append(tmp)\n",
    "    for c in NUMS:\n",
    "        tmp = train.groupby(['session_id','level_group'])[c].agg('mean')\n",
    "        tmp.name = tmp.name + '_mean'\n",
    "        dfs.append(tmp)\n",
    "    for c in NUMS:\n",
    "        tmp = train.groupby(['session_id','level_group'])[c].agg('std')\n",
    "        tmp.name = tmp.name + '_std'\n",
    "        dfs.append(tmp)\n",
    "    for c in EVENTS: \n",
    "        train[c] = (train.event_name == c).astype('int8')\n",
    "    for c in EVENTS + ['elapsed_time']:\n",
    "        tmp = train.groupby(['session_id','level_group'])[c].agg('sum')\n",
    "        tmp.name = tmp.name + '_sum'\n",
    "        dfs.append(tmp)\n",
    "    train = train.drop(EVENTS,axis=1)\n",
    "        \n",
    "    df = pd.concat(dfs,axis=1)\n",
    "    df = df.fillna(-1)\n",
    "    df = df.reset_index()\n",
    "    df = df.set_index('session_id')\n",
    "    return df"
   ]
  },
  {
   "cell_type": "code",
   "execution_count": 4,
   "metadata": {},
   "outputs": [],
   "source": [
    "def feature_engineer2(train):\n",
    "    dfs = []\n",
    "\n",
    "    # Keep the most frequent categorical features\n",
    "    for c in CATS:\n",
    "        tmp = train.groupby(['session_id', 'level_group'])[c].agg(lambda x: x.mode().iloc[0] if not x.mode().empty else None)\n",
    "        tmp.name = tmp.name + '_mode'\n",
    "        dfs.append(tmp)\n",
    "\n",
    "    # Aggregate numerical variables\n",
    "    for c in NUMS:\n",
    "        tmp = train.groupby(['session_id', 'level_group'])[c].agg('mean')\n",
    "        tmp.name = tmp.name + '_mean'\n",
    "        dfs.append(tmp)\n",
    "    for c in NUMS:\n",
    "        tmp = train.groupby(['session_id', 'level_group'])[c].agg('std')\n",
    "        tmp.name = tmp.name + '_std'\n",
    "        dfs.append(tmp)\n",
    "\n",
    "    # Aggregate event counts and elapsed_time\n",
    "    for c in EVENTS:\n",
    "        train[c] = (train.event_name == c).astype('int8')\n",
    "    for c in EVENTS + ['elapsed_time']:\n",
    "        tmp = train.groupby(['session_id', 'level_group'])[c].agg('sum')\n",
    "        tmp.name = tmp.name + '_sum'\n",
    "        dfs.append(tmp)\n",
    "    train = train.drop(EVENTS, axis=1)\n",
    "\n",
    "    df = pd.concat(dfs, axis=1)\n",
    "    df = df.fillna(-1)\n",
    "    df = df.reset_index()\n",
    "    df = df.set_index('session_id')\n",
    "    return df\n"
   ]
  },
  {
   "cell_type": "code",
   "execution_count": 5,
   "metadata": {},
   "outputs": [
    {
     "name": "stdout",
     "output_type": "stream",
     "text": [
      "Full prepared dataset shape is (70686, 31)\n"
     ]
    }
   ],
   "source": [
    "dataset_df = feature_engineer(train)\n",
    "print(\"Full prepared dataset shape is {}\".format(dataset_df.shape))"
   ]
  },
  {
   "cell_type": "code",
   "execution_count": 6,
   "metadata": {},
   "outputs": [
    {
     "name": "stdout",
     "output_type": "stream",
     "text": [
      "Full prepared dataset shape is (70686, 31)\n"
     ]
    }
   ],
   "source": [
    "dataset_df2 = feature_engineer2(train)\n",
    "print(\"Full prepared dataset shape is {}\".format(dataset_df2.shape))"
   ]
  },
  {
   "cell_type": "code",
   "execution_count": 10,
   "metadata": {},
   "outputs": [],
   "source": [
    "## Preprocess the test data and write to csv\n",
    "test = pd.read_csv('test.csv')\n",
    "test_preprocessed = feature_engineer(test)\n",
    "cat_test_preprocessed = feature_engineer2(test)\n",
    "test_preprocessed.to_csv('test_preprocessed.csv')\n",
    "cat_test_preprocessed.to_csv('cat_test_preprocessed.csv')"
   ]
  },
  {
   "cell_type": "code",
   "execution_count": 9,
   "metadata": {},
   "outputs": [],
   "source": [
    "import os\n",
    "\n",
    "# Replace the path with the actual path to your GitHub repository\n",
    "repository_folder = \"/Users/brodybarton/Documents/GitHub/student-performance-prediction\"\n",
    "csv_file_path = repository_folder + \"/CatBoostData.csv\"\n",
    "dataset_df2.to_csv(csv_file_path, index=True)"
   ]
  }
 ],
 "metadata": {
  "kernelspec": {
   "display_name": "Python 3",
   "language": "python",
   "name": "python3"
  },
  "language_info": {
   "codemirror_mode": {
    "name": "ipython",
    "version": 3
   },
   "file_extension": ".py",
   "mimetype": "text/x-python",
   "name": "python",
   "nbconvert_exporter": "python",
   "pygments_lexer": "ipython3",
   "version": "3.9.13"
  },
  "orig_nbformat": 4
 },
 "nbformat": 4,
 "nbformat_minor": 2
}
