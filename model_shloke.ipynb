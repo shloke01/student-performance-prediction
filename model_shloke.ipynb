{
 "cells": [
  {
   "cell_type": "code",
   "execution_count": 6,
   "metadata": {},
   "outputs": [],
   "source": [
    "import pandas as pd\n",
    "import numpy as np\n",
    "import xgboost as xgb\n",
    "import warnings\n",
    "warnings.simplefilter(action='ignore')"
   ]
  },
  {
   "cell_type": "code",
   "execution_count": 3,
   "metadata": {},
   "outputs": [],
   "source": [
    "train = pd.read_csv('StudentPerformancePred.csv')\n",
    "labels = pd.read_csv('train_labels.csv')\n",
    "\n",
    "labels['session'] = labels.session_id.apply(lambda x: int(x.split('_')[0]) )\n",
    "labels['q'] = labels.session_id.apply(lambda x: int(x.split('_')[-1][1:]) )\n",
    "\n",
    "train['session_id'] = train['session_id'].astype(str)\n",
    "labels['session'] = labels['session'].astype(str)"
   ]
  },
  {
   "cell_type": "code",
   "execution_count": 34,
   "metadata": {},
   "outputs": [
    {
     "name": "stdout",
     "output_type": "stream",
     "text": [
      "Question 1 accuracy: 0.6810914257024043\n",
      "Question 2 accuracy: 0.9817526843227447\n",
      "Question 3 accuracy: 0.9329517080825751\n",
      "Question 4 accuracy: 0.7738160048451772\n",
      "Question 5 accuracy: 0.5068933453111878\n",
      "Question 6 accuracy: 0.7492035402215003\n",
      "Question 7 accuracy: 0.6948877976733242\n",
      "Question 8 accuracy: 0.5537902479550965\n",
      "Question 9 accuracy: 0.6832154685434974\n",
      "Question 10 accuracy: 0.4827120384191934\n",
      "Question 11 accuracy: 0.5803142160471728\n",
      "Question 12 accuracy: 0.8489279595094483\n",
      "Question 13 accuracy: 0.6810970543934185\n",
      "Question 14 accuracy: 0.6573333963746727\n",
      "Question 15 accuracy: 0.5283186199350224\n",
      "Question 16 accuracy: 0.7004007628002062\n",
      "Question 17 accuracy: 0.6526606822423804\n",
      "Question 18 accuracy: 0.9475921585579744\n"
     ]
    }
   ],
   "source": [
    "from sklearn.model_selection import train_test_split\n",
    "from sklearn.model_selection import cross_val_score \n",
    "from sklearn.metrics import accuracy_score\n",
    "\n",
    "## Loop through questions, create train & validation sets for each question\n",
    "for q_no in range(1,19):\n",
    "\n",
    "    ## Filter dataset based on current questio\n",
    "    if q_no <= 3:\n",
    "        select = train[train['level_group'] == '0-4']\n",
    "    elif q_no <= 13:\n",
    "        select = train[train['level_group'] == '5-12']\n",
    "    else:\n",
    "        select = train[train['level_group'] == '13-22']\n",
    "\n",
    "    ## Create train & validation sets\n",
    "    train_X, validate_X = train_test_split(select, test_size=0.2)\n",
    "    train_y = labels.loc[(labels['session'].isin(train_X['session_id'])) & (labels['q'] == q_no)]\n",
    "    validate_y = labels.loc[(labels['session'].isin(validate_X['session_id'])) & (labels['q'] == q_no)]\n",
    "\n",
    "    train_X = train_X.drop(['session_id', 'level_group'], axis=1)\n",
    "    train_y = train_y['correct']\n",
    "\n",
    "    validate_X = validate_X.drop(['session_id', 'level_group'], axis=1)\n",
    "    validate_y = validate_y['correct']\n",
    "\n",
    "    ## Do modeling here\n",
    "    model = xgb.XGBClassifier(eval_metric='error')\n",
    "    model.fit(train_X, train_y)\n",
    "\n",
    "    # y_pred = model.predict(validate_X)\n",
    "    # print(cross_val_score(validate_y, y_pred, cv=5))\n",
    "\n",
    "    print(\"Question\", q_no, \"accuracy:\", np.mean(cross_val_score(model, validate_X, validate_y, cv=5)))\n",
    "\n",
    "    "
   ]
  }
 ],
 "metadata": {
  "interpreter": {
   "hash": "31f2aee4e71d21fbe5cf8b01ff0e069b9275f58929596ceb00d14d90e3e16cd6"
  },
  "kernelspec": {
   "display_name": "Python 3.9.6 64-bit",
   "language": "python",
   "name": "python3"
  },
  "language_info": {
   "codemirror_mode": {
    "name": "ipython",
    "version": 3
   },
   "file_extension": ".py",
   "mimetype": "text/x-python",
   "name": "python",
   "nbconvert_exporter": "python",
   "pygments_lexer": "ipython3",
   "version": "3.9.1"
  },
  "orig_nbformat": 4
 },
 "nbformat": 4,
 "nbformat_minor": 2
}
