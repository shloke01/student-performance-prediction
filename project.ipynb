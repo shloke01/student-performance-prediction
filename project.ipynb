{
 "cells": [
  {
   "cell_type": "code",
   "execution_count": 1,
   "metadata": {},
   "outputs": [
    {
     "name": "stdout",
     "output_type": "stream",
     "text": [
      "          session_id  index  elapsed_time      event_name   name  level  page   \n",
      "0  20090312431273200      0             0  cutscene_click  basic      0   NaN  \\\n",
      "1  20090312431273200      1          1323    person_click  basic      0   NaN   \n",
      "2  20090312431273200      2           831    person_click  basic      0   NaN   \n",
      "3  20090312431273200      3          1147    person_click  basic      0   NaN   \n",
      "4  20090312431273200      4          1863    person_click  basic      0   NaN   \n",
      "\n",
      "   room_coor_x  room_coor_y  screen_coor_x  screen_coor_y  hover_duration   \n",
      "0  -413.991405  -159.314686          380.0          494.0             NaN  \\\n",
      "1  -413.991405  -159.314686          380.0          494.0             NaN   \n",
      "2  -413.991405  -159.314686          380.0          494.0             NaN   \n",
      "3  -413.991405  -159.314686          380.0          494.0             NaN   \n",
      "4  -412.991405  -159.314686          381.0          494.0             NaN   \n",
      "\n",
      "                            text    fqid                       room_fqid   \n",
      "0                      undefined   intro  tunic.historicalsociety.closet  \\\n",
      "1  Whatcha doing over there, Jo?  gramps  tunic.historicalsociety.closet   \n",
      "2         Just talking to Teddy.  gramps  tunic.historicalsociety.closet   \n",
      "3     I gotta run to my meeting!  gramps  tunic.historicalsociety.closet   \n",
      "4            Can I come, Gramps?  gramps  tunic.historicalsociety.closet   \n",
      "\n",
      "                                           text_fqid  fullscreen  hq  music   \n",
      "0               tunic.historicalsociety.closet.intro           0   0      1  \\\n",
      "1  tunic.historicalsociety.closet.gramps.intro_0_...           0   0      1   \n",
      "2  tunic.historicalsociety.closet.gramps.intro_0_...           0   0      1   \n",
      "3  tunic.historicalsociety.closet.gramps.intro_0_...           0   0      1   \n",
      "4  tunic.historicalsociety.closet.gramps.intro_0_...           0   0      1   \n",
      "\n",
      "  level_group  \n",
      "0         0-4  \n",
      "1         0-4  \n",
      "2         0-4  \n",
      "3         0-4  \n",
      "4         0-4  \n"
     ]
    }
   ],
   "source": [
    "import pandas as pd\n",
    "\n",
    "train_X = pd.read_csv(\"part_0.csv\")\n",
    "\n",
    "print(train_X.head())"
   ]
  },
  {
   "attachments": {},
   "cell_type": "markdown",
   "metadata": {},
   "source": [
    "Data is clean from kaggle"
   ]
  },
  {
   "cell_type": "code",
   "execution_count": 2,
   "metadata": {},
   "outputs": [
    {
     "data": {
      "text/plain": [
       "Index(['session_id', 'index', 'elapsed_time', 'event_name', 'name', 'level',\n",
       "       'page', 'room_coor_x', 'room_coor_y', 'screen_coor_x', 'screen_coor_y',\n",
       "       'hover_duration', 'text', 'fqid', 'room_fqid', 'text_fqid',\n",
       "       'fullscreen', 'hq', 'music', 'level_group'],\n",
       "      dtype='object')"
      ]
     },
     "execution_count": 2,
     "metadata": {},
     "output_type": "execute_result"
    }
   ],
   "source": [
    "train_X.columns"
   ]
  }
 ],
 "metadata": {
  "kernelspec": {
   "display_name": "Python 3 (ipykernel)",
   "language": "python",
   "name": "python3"
  },
  "language_info": {
   "codemirror_mode": {
    "name": "ipython",
    "version": 3
   },
   "file_extension": ".py",
   "mimetype": "text/x-python",
   "name": "python",
   "nbconvert_exporter": "python",
   "pygments_lexer": "ipython3",
   "version": "3.10.4"
  },
  "orig_nbformat": 4
 },
 "nbformat": 4,
 "nbformat_minor": 2
}
